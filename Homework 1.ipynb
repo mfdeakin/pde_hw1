{
 "cells": [
  {
   "cell_type": "markdown",
   "metadata": {},
   "source": [
    "## Michael Deakin"
   ]
  },
  {
   "cell_type": "markdown",
   "metadata": {},
   "source": [
    "I collaborated with Caleb Marshall and Damien Huet on this homework"
   ]
  },
  {
   "cell_type": "markdown",
   "metadata": {},
   "source": [
    "# 1. (10 pts)\n",
    "Let $f \\in C^\\infty_C(R^2)$. Show that the following function\n",
    "\n",
    "$$\n",
    "v(x) = \\frac{1}{2 \\pi} \\int_{R^2} \\log\\left(|x - y| \\right) f(y) dy\n",
    "$$\n",
    "\n",
    "satisfies $\\Delta v(x) = f(x), x \\in R^2$"
   ]
  },
  {
   "cell_type": "markdown",
   "metadata": {},
   "source": [
    "### Proof\n",
    "This is pretty much a more detailed explanation of the book's proof for the specific case of $n=2$.\n",
    "\n",
    "First note that $\\int_{R^2} \\log\\left(|x - y|\\right) f(y) dy = \\int_{R^2} \\log\\left(|y|\\right) f(x - y) dy$, as this is just the convolution of $\\log$ and $f$, and a change in variables shows that convolution is commutative. Then we have\n",
    "\n",
    "$$\n",
    "\\lim_{h \\rightarrow 0} \\frac{v(x + h e_i) - v(x)}{h} = \\lim_{h \\rightarrow 0} \\frac{1}{2 \\pi} \\int_{R^2} \\log\\left(|y|\\right) \\left[\\frac{f(x + h e_i - y) - f(x - y)}{h} \\right] dy\n",
    "$$\n",
    "\n",
    "Since $f$ is smooth and has compact support, the previous limit goes to $f_{x_i}$ uniformly, allowing us to exchange the order of the integration and limit. Then\n",
    "\n",
    "$$\n",
    "v_{x_i}(x) = \\frac{1}{2 \\pi} \\int_{R^2} \\log\\left(|y|\\right) f_{x_i}(x - y) dy\n",
    "$$\n",
    "\n",
    "and after repeating the same process\n",
    "\n",
    "$$\n",
    "v_{x_i x_j}(x) = \\frac{1}{2 \\pi} \\int_{R^2} \\log\\left(|y|\\right) f_{x_i x_j}(x - y) dy\n",
    "$$\n",
    "\n",
    "Since all of these partial derivatives exists for all $x \\in R^2$, if these functions are integrable, we have $v \\in C^2(R^2)$. We show this by computing $\\Delta v(x)$, computing the integral for any of these will follow the same process."
   ]
  },
  {
   "cell_type": "markdown",
   "metadata": {},
   "source": [
    "We start by considering the ball around the origin of radius $0 < \\epsilon < 1$, and use it to divide the integral into two parts:\n",
    "\n",
    "$$\n",
    "\\Delta v(x) = \\int_{B_\\epsilon} \\Phi(y) \\Delta_x f(x - y) dy + \\int_{R^n \\setminus B_\\epsilon} \\Phi(y) \\Delta_x f(x - y) dy\n",
    "$$\n",
    "\n",
    "Call these integrals $I_\\epsilon$ and $J_\\epsilon$, respectively.\n",
    "\n",
    "Next we estimate $I_\\epsilon$. Since $f$ is smooth over $R^2$, we can take as many derivatives as we like at every point of $R^2$.\n",
    "Furthermore, since $f$ has compact support, all of these derivatives must go to zero outside of the compact set, as $f$ is constant outside of it.\n",
    "Since the derivatives are only non-zero on a compact set, and are zero everywhere else, they must be bounded, and we can compute $C = \\sup_{x \\in R^2} |D^2 f(x)|$.\n",
    "\n",
    "Then\n",
    "\n",
    "$$\n",
    "|I_\\epsilon| = \\left| \\int_{B_\\epsilon} \\Phi(y) \\Delta_x f(x - y) dy \\right|\\\\\n",
    "  \\leq \\int_{B_\\epsilon} \\left| \\Phi(y) \\Delta_x f(x - y) \\right| dy\\\\\n",
    "  \\leq \\int_{B_\\epsilon} C |\\Phi(y)| dy\\\\\n",
    "$$\n",
    "\n",
    "by the triangle inequality for integrals and then a comparison of the integrands.\n",
    "\n",
    "We compute\n",
    "\n",
    "$$\n",
    "|I_\\epsilon| \\leq \\int_{B_\\epsilon} C |\\Phi(y)| dy\\\\\n",
    "  \\leq \\int_{B_\\epsilon} C \\left| \\log(|y|) \\right| dy\n",
    "$$\n",
    "\n",
    "For all $x < 1$, we know $\\frac{1}{x} > |\\log(x)|$.\n",
    "So, considering our integral again, we have\n",
    "\n",
    "$$\n",
    "|I_\\epsilon| \\leq \\int_{B_\\epsilon} C \\frac{1}{|y|} dy\\\\\n",
    "  = \\int_{r = 0}^{\\epsilon} C r \\frac{1}{r} dr\n",
    "  = \\int_{r = 0}^{\\epsilon} C dr = C \\epsilon\n",
    "$$\n",
    "\n",
    "Since $|I_\\epsilon|$ is bounded by $\\epsilon$, it can be made arbitrarily small."
   ]
  },
  {
   "cell_type": "markdown",
   "metadata": {},
   "source": [
    "Next we consider $J_\\epsilon$:\n",
    "\n",
    "$$\n",
    "J_\\epsilon = \\int_{R^n \\setminus B_\\epsilon} \\Phi(y) \\Delta_x f(x - y) dy\\\\\n",
    "  = \\int_{R^n \\setminus B_\\epsilon} \\Phi(y) \\Delta_y f(x - y) dy\n",
    "$$\n",
    "\n",
    "Note that since the Laplacian takes the derivative w.r.t. the specified variable twice, the change in sign in switching from $x$ to $y$ cancels out.\n",
    "\n",
    "Then integrating by parts gives us\n",
    "\n",
    "$$\n",
    "J_\\epsilon = \\int_{R^n \\setminus B_\\epsilon} \\Phi(y) \\Delta_y f(x - y) dy\\\\\n",
    "  = -\\int_{R^n \\setminus B_\\epsilon} D \\Phi(y) \\cdot D_y f(x - y) dy\\\\\n",
    "    + \\int_{\\partial B_\\epsilon} \\Phi(y) \\frac{\\partial f}{\\partial \\nu}(x - y) dS(y)\n",
    "$$\n",
    "\n",
    "Label these integrals $K_\\epsilon$ and $L_\\epsilon$, respectively.\n",
    "\n",
    "Then in estimating $L_\\epsilon$ we see\n",
    "\n",
    "$$\n",
    "|L_\\epsilon| = \\left| \\int_{\\partial B_\\epsilon} \\Phi(y) \\frac{\\partial f}{\\partial \\nu}(x - y) dS(y) \\right|\\\\\n",
    "  \\leq \\int_{\\partial B_\\epsilon} \\left| \\Phi(y) \\frac{\\partial f}{\\partial \\nu}(x - y) \\right| dS(y)\\\\\n",
    "  \\leq |D f|_{L^\\infty} \\int_{\\partial B_\\epsilon} |\\Phi(y)| dy\\\\\n",
    "  \\leq C \\int_{\\partial B_\\epsilon} | \\log|y| | dy\\\\\n",
    "  \\leq C \\epsilon | \\log(\\epsilon) |\n",
    "$$\n",
    "\n",
    "Note again that $C \\epsilon | \\log(\\epsilon) | \\rightarrow 0$ as $\\epsilon \\rightarrow 0$, so $L_\\epsilon$ can also be made arbitrarily small."
   ]
  },
  {
   "cell_type": "markdown",
   "metadata": {},
   "source": [
    "Finally, we evaluate $K_\\epsilon$:\n",
    "\n",
    "$$\n",
    "K_\\epsilon = -\\int_{R^n \\setminus B_\\epsilon} D \\Phi(y) \\cdot D_y f(x - y) dy\\\\\n",
    "  = \\int_{R^n \\setminus B_\\epsilon} \\Delta \\Phi(y) f(x - y) dy - \\int_{\\partial B_\\epsilon} \\frac{\\partial \\Phi}{\\partial \\nu}(y) f(x - y) dS(y)\n",
    "$$\n",
    "\n",
    "Since $\\Phi$ is harmonic away from the origin, $\\Delta \\Phi = 0$, removing the first term for us.\n",
    "Then\n",
    "\n",
    "$$\n",
    "K_\\epsilon = -\\int_{\\partial B_\\epsilon} \\frac{\\partial \\Phi}{\\partial \\nu}(y) f(x - y) dS(y)\n",
    "$$\n",
    "\n",
    "Next, note that $\\frac{\\partial \\Phi}{\\partial \\nu}(y) = \\nu(y) \\cdot D \\Phi(y) = \\frac{-y}{\\omega_n |y|} \\cdot -\\frac{1}{|y|} \\frac{y}{|y|} = -C \\frac{|y|^2}{|y|^3} = -\\frac{C}{|y|}$\n",
    "\n",
    "Since this integral is over the surface of the ball with radius $\\epsilon$, we can write this as $\\frac{1}{\\omega_n \\epsilon}$.\n",
    "Then our integral is just\n",
    "\n",
    "$$\n",
    "K_\\epsilon = \\int_{\\partial B_\\epsilon} \\frac{1}{\\omega_n \\epsilon} f(x - y) dS(y)\n",
    "$$\n",
    "\n",
    "Change coordinates to $z = x - y$ to get\n",
    "\n",
    "$$\n",
    "K_\\epsilon = -\\int_{\\partial B_\\epsilon(x)} \\frac{1}{\\omega_n \\epsilon} f(z) dS(y)\n",
    "$$\n",
    "\n",
    "Then, by the average value problem of integrals, we know that as $\\epsilon \\rightarrow 0$, the average value will approach the value at the center of the ball.\n",
    "Thus\n",
    "\n",
    "$$\n",
    "K_\\epsilon = -\\int_{\\partial B_\\epsilon(x)} \\frac{1}{\\omega_n \\epsilon} f(z) dS(y) \\rightarrow -f(x)\n",
    "$$\n",
    "\n",
    "Then $\\Delta u = \\lim_{\\epsilon \\rightarrow 0} I_\\epsilon + J_\\epsilon + K_\\epsilon + L_\\epsilon = 0 + 0 - f + 0 = -f$, completing our proof."
   ]
  },
  {
   "cell_type": "markdown",
   "metadata": {},
   "source": [
    "### Extra Credit\n",
    "\n",
    "Show that $\\nu(x) = \\frac{1}{2 \\pi} \\left( \\int_{R^2} f(x) dx \\right) \\log\\left(|x|\\right) + C + O\\left(\\frac{1}{|x|}\\right)$ as $|x| \\rightarrow \\infty$\n",
    "(should be  $\\nu(x) = \\frac{1}{2 \\pi} \\left( \\int_{R^2} f(y) dy \\right) \\log\\left(|x|\\right) + C + O\\left(\\frac{1}{|x|}\\right)$?)"
   ]
  },
  {
   "cell_type": "markdown",
   "metadata": {},
   "source": [
    "# 2. (20 pts)\n",
    "Let $\\Omega \\subset  R^n$ be a smooth and bounded domain in $R^n$, $n \\geq 3$, and\n",
    "$$\n",
    "v(x) = \\int_\\Omega f(y) \\frac{1}{|x - y|^{n - 2}} dy\n",
    "$$\n",
    "Show that if $f \\in C^1(\\Omega)$ is bounded, then $v \\in C^2(\\Omega)$ and $\\Delta v(x) = -(n - 2) \\omega_n f(x)$, $x \\in \\Omega$"
   ]
  },
  {
   "cell_type": "markdown",
   "metadata": {},
   "source": [
    "### Proof\n",
    "\n",
    "By the computation in 1, we have\n",
    "\n",
    "$$\n",
    "\\nu_{x_i}(x) = \\int_{\\Omega} f(y) \\frac{(n - 2) (x_i - y_i)}{|x - y|^n} dy\n",
    "$$\n",
    "\n",
    "which we can do by the computation in the book I believe?\n",
    "\n",
    "$$\n",
    "\\nu_{x_i}(x) = \\lim_{h \\to 0} \\int_{\\Omega} f(y) \\left[ \\frac{1}{|x + e_i h - y|^{n - 2}} - \\frac{1}{|x - y|^{n - 2}} \\right] / h dy\\\\\n",
    "= \\lim_{h \\to 0} \\int_{\\Omega \\setminus B_1(x)} f(y) \\left[ \\frac{1}{|x + e_i h - y|^{n - 2}} - \\frac{1}{|x - y|^{n - 2}} \\right] / h dy + \\int_{B_1(x)} f(y) \\left[ \\frac{1}{|x + e_i h - y|^{n - 2}} - \\frac{1}{|x - y|^{n - 2}} \\right] / h dy\\\\\n",
    "= \\lim_{h \\to 0} \\int_{B_1(x)} f(y) \\left[ \\frac{1}{|x + e_i h - y|^{n - 2}} - \\frac{1}{|x - y|^{n - 2}} \\right] / h dy + (n - 2) \\int_{\\Omega \\setminus B_1(x)} f(y) \\frac{|x_i - y_i|}{|x - y|^{n - 1}} dy\\\\\n",
    "= \n",
    "$$\n"
   ]
  },
  {
   "cell_type": "markdown",
   "metadata": {},
   "source": [
    "Trick is supposed to be Lesbegue integration formula - every time you see the average value of the function, shrinking to the function. 2nd Green's theorem"
   ]
  },
  {
   "cell_type": "markdown",
   "metadata": {},
   "source": [
    "Fubini's Theorem"
   ]
  },
  {
   "cell_type": "markdown",
   "metadata": {},
   "source": [
    "# 3. (20 pts)\n",
    "This problem concerns the Newtonian potential\n",
    "$$\n",
    "u(x) = \\int_{R^n} \\frac{1}{|x - y|^{n - 2}} \\frac{1}{(1 + |y|^2)^{\\frac{\\alpha}{2}} }dy\n",
    "$$\n",
    "where $n \\geq 3$.\n",
    "\n",
    "## a.\n",
    "Show that for $\\alpha \\in (2, n), |u(x)| \\leq \\frac{C}{|x|^{\\alpha - 2}}$ for $|x| > 1$"
   ]
  },
  {
   "cell_type": "markdown",
   "metadata": {},
   "source": [
    "### Proof\n",
    "\n",
    "Following the hint, we first note that\n",
    "\n",
    "$$\n",
    "u(x) = \\int_{|y - x| < \\frac{|x|}{2}} \\frac{1}{|x - y|^{n - 2}} \\frac{1}{(1 + |y|^2)^{\\frac{\\alpha}{2}}} dy\\\\\n",
    "       + \\int_{\\frac{|x|}{2} < |y - x| < 2 |x|} \\frac{1}{|x - y|^{n - 2}} \\frac{1}{(1 + |y|^2)^{\\frac{\\alpha}{2}}} dy\\\\\n",
    "       + \\int_{|y - x| > 2 |x|} \\frac{1}{|x - y|^{n - 2}} \\frac{1}{(1 + |y|^2)^{\\frac{\\alpha}{2}}} dy\n",
    "$$\n",
    "\n",
    "We call these integrals $I_1, I_2, I_3$, respectively.\n",
    "\n",
    "When evaluating these integrals, we make use of the change in variable $z = x - y$ in some cases to simplify things; the integral doesn't change sign because the limits are also reversed.\n",
    "We also use the reverse triangle inequality, which shows that $||x| - |y|| \\leq |x - y|$ for any $x, y$.\n",
    "Additionally, we aim to integrate functions of the form $\\frac{1}{r^{\\alpha - 1}}$. Since $\\alpha - 1 > 1$, this integrates to $\\frac{-1}{(\\alpha - 2) r^{\\alpha - 2}}$.\n",
    "\n",
    "Finally, integration of a function $f$ in spherical coordinates over a circular region of dimension $n$ is done as $\\int_{r=R_0}^{r=R_1} \\int_{\\theta_1 = 0}^{2 \\pi} \\int_{\\theta_2 = 0}^{\\pi} \\ldots \\int_{\\theta_{n-1} = 0}^{\\pi} f(r, \\theta_1, \\ldots, \\theta_{n - 1}) r^{n - 1} \\sin^{n - 2}(\\theta_1) \\sin^{n - 3}(\\theta_2) \\ldots \\sin(\\theta_{n - 2}) d\\theta_{n - 1} d\\theta_{n - 2} \\ldots  d\\theta_{1} dr$. If $f$ is radially symmetric, then we note that this integral just evaluates to $\\int_{r=R_0}^{r=R_1} \\omega_n f(r) r^{n - 1} dr$\n",
    "\n",
    "Then consider $I_1$:\n",
    "\n",
    "$$\n",
    "I_1 = \\int_{|y - x| < \\frac{|x|}{2}} \\frac{1}{|x - y|^{n - 2}} \\frac{1}{(1 + |y|^2)^{\\frac{\\alpha}{2}}} dy\\\\\n",
    "    = \\int_{|z| < \\frac{|x|}{2}} \\frac{1}{|z|^{n - 2}} \\frac{1}{(1 + |x - z|^2)^{\\frac{\\alpha}{2}}} dy\\\\\n",
    "    \\leq \\int_{|z| < \\frac{|x|}{2}} \\frac{1}{|z|^{n - 2}} \\frac{1}{(1 + ||x| - |z||^2)^{\\frac{\\alpha}{2}}} dy\n",
    "$$\n",
    "\n",
    "In this region, the minimum value of $||x| - |z||$ occurs when $|z| = \\frac{|x|}{2}$, leaving us with $\\frac{|x|}{2}$. Then\n",
    "\n",
    "$$\n",
    "I_1 \\leq \\int_{|z| < \\frac{|x|}{2}} \\frac{1}{|z|^{n - 2}} \\frac{1}{\\left[1 + \\left(\\frac{|x|}{2}\\right)^2\\right]^{\\frac{\\alpha}{2}}} dy\\\\\n",
    "    \\leq \\int_{|z| < \\frac{|x|}{2}} \\frac{1}{|z|^{n - 2}} \\frac{1}{\\left(\\frac{|x|^2}{4}\\right)^{\\frac{\\alpha}{2}}} dy\\\\\n",
    "    \\leq \\int_{|z| < \\frac{|x|}{2}} \\frac{C}{|z|^{n - 2} |x|^\\alpha} dy\n",
    "$$\n",
    "\n",
    "Note that the integrand is radially symmetric, so substituting $|z| = r$, we have\n",
    "\n",
    "$$\n",
    "I_1 \\leq \\int_{r=0}^{\\frac{|x|}{2}} C \\frac{r}{|x|^\\alpha} dy\n",
    "    \\leq C \\frac{r^2}{|x|^\\alpha} \\biggr|_{r=0}^{\\frac{|x|}{2}}\n",
    "    \\leq C \\frac{1}{|x|^{\\alpha - 2}}\n",
    "$$"
   ]
  },
  {
   "cell_type": "markdown",
   "metadata": {},
   "source": [
    "Next, consider $I_2$:\n",
    "\n",
    "$$\n",
    "I_2 = \\int_{\\frac{|x|}{2} < |y - x| < 2 |x|} \\frac{1}{|x - y|^{n - 2}} \\frac{1}{(1 + |y|^2)^{\\frac{\\alpha}{2}}} dy\\\\\n",
    "    = \\int_{\\frac{|x|}{2} < |z| < 2 |x|} \\frac{1}{|z|^{n - 2}} \\frac{1}{(1 + |x - z|^2)^{\\frac{\\alpha}{2}}} dy\\\\\n",
    "    \\leq \\int_{\\frac{|x|}{2} < |z| < 2 |x|} \\frac{1}{|z|^{n - 2}} \\frac{1}{(1 + ||x| - |z||^2)^{\\frac{\\alpha}{2}}} dy\n",
    "$$\n",
    "\n",
    "Since $|z| > \\frac{1}{2} |x| > \\frac{1}{2}$, we can rewrite this as\n",
    "\n",
    "$$\n",
    "\\int_{\\frac{|x|}{2} < |z| < 2 |x|} \\frac{1}{|z|^{n - 2}} \\frac{1}{\\left(1 + |x|^2 - 2 |z| |x| + |z|^2 \\right)^{\\frac{\\alpha}{2}}} dy\\\\\n",
    "= \\int_{\\frac{|x|}{2} < |z| < 2 |x|} \\frac{1}{|z|^{n - 2}} \\frac{1}{|z|^\\alpha \\left(\\frac{1}{|z|^2} + \\frac{|x|^2}{|z|^2} - 2 \\frac{|x|}{|z|} + 1 \\right)^{\\frac{\\alpha}{2}}} dy\\\\\n",
    "\\leq \\int_{\\frac{|x|}{2} < |z| < 2 |x|} \\frac{C}{|z|^{n - 2}} \\frac{1}{|z|^\\alpha \\left(\\frac{1}{|x|^2} + 1 \\right)^{\\frac{\\alpha}{2}}} dy\\\\\n",
    "\\leq \\int_{\\frac{|x|}{2} < |z| < 2 |x|} \\frac{C}{|z|^{\\alpha + n - 2}} dy\\\\\n",
    "\\leq C \\int_{\\frac{|x|}{2} < |z| < 2 |x|} \\frac{1}{|z|^{\\alpha + n - 2}} dy\\\\\n",
    "\\leq C \\int_{\\frac{|x|}{2} < r < 2 |x|} \\frac{r^{n - 1}}{r^{\\alpha + n - 2}} dr\\\\\n",
    "\\leq C \\int_{\\frac{|x|}{2} < r < 2 |x|} \\frac{1}{r^{\\alpha - 1}} dr\\\\\n",
    "= \\frac{C}{r^{\\alpha - 2}} \\Biggr|_{r = \\frac{|x|}{2}}^{2 |x|}\n",
    "\\leq \\frac{C}{x^{\\alpha - 2}}\n",
    "$$"
   ]
  },
  {
   "cell_type": "markdown",
   "metadata": {},
   "source": [
    "Finally, we consider $I_3$:\n",
    "\n",
    "$$\n",
    "I_3 = \\int_{2 |x| < |y - x|} \\frac{1}{|x - y|^{n - 2}} \\frac{1}{(1 + |y|^2)^{\\frac{\\alpha}{2}}} dz\\\\\n",
    "    = \\int_{2 |x| < |z|} \\frac{1}{|z|^{n - 2}} \\frac{1}{(1 + |x - z|^2)^{\\frac{\\alpha}{2}}} dz\\\\\n",
    "    \\leq \\int_{2 |x| < |z|} \\frac{1}{|z|^{n - 2}} \\frac{1}{(1 + ||x| - |z||^2)^{\\frac{\\alpha}{2}}} dz\n",
    "$$\n",
    "\n",
    "The smallest value of $||x| - |z||$ in this region is $\\left|\\frac{z}{2}\\right|$, so we can further upper bound this by\n",
    "\n",
    "$$\n",
    "I_3 \\leq \\int_{2 |x| < |z|} \\frac{1}{|z|^{n - 2}} \\frac{1}{\\left(1 + \\frac{|z|^2}{4}\\right)^{\\frac{\\alpha}{2}}} dz\\\\\n",
    "    \\leq \\int_{2 |x| < |z|} \\frac{1}{|z|^{n - 2}} \\frac{1}{\\left(\\frac{|z|^2}{4}\\right)^{\\frac{\\alpha}{2}}} dz\\\\\n",
    "    \\leq \\int_{2 |x| < |z|} \\frac{1}{|z|^{n - 2}} \\frac{C}{|z|^\\alpha} dz\n",
    "$$\n",
    "\n",
    "Again integrating in spherical coordinates gives us\n",
    "$$\n",
    "I_3 \\leq \\int_{2 |x| < |z|} \\frac{C}{|z|^{n - 2 + \\alpha}} dz\\\\\n",
    "    \\leq \\int_{2 |x| < r} \\frac{C r^{n - 1}}{r^{\\alpha + n - 2}} dr\\\\\n",
    "    \\leq \\int_{2 |x| < r} \\frac{C}{r^{\\alpha - 1}} dr\n",
    "$$\n",
    "Since $\\alpha > 2$, this integrates to $\\frac{C}{r^{\\alpha - 2}} \\biggr|_{2 |x|}^\\infty = \\frac{C}{|x|^{\\alpha - 2}}$\n",
    "\n",
    "Finally, since $I_1, I_2, I_3$ are of the form $\\frac{C}{|x|^{\\alpha - 2}}$, their sum must be as well, and we conclude that\n",
    "\n",
    "$$\n",
    "u(x) = I_1 + I_2 + I_3 \\leq \\frac{C}{|x|^{\\alpha - 2}}\n",
    "$$\n",
    "\n",
    "when $\\alpha > 2$ and $|x| > 1$"
   ]
  },
  {
   "cell_type": "markdown",
   "metadata": {},
   "source": [
    "## b.\n",
    "Show that  for $\\alpha > n$, then $|u(x)| \\leq \\frac{C}{|x|^{n - 2}}$ for $|x| > 1$"
   ]
  },
  {
   "cell_type": "markdown",
   "metadata": {},
   "source": [
    "### Proof\n",
    "\n",
    "For the case where $\\alpha > n$, we know that for any real $r > 1$, $r^\\alpha > r^n$, and therefore $\\frac{1}{r^\\alpha} < \\frac{1}{r^n}$.\n",
    "\n",
    "Then by part a, since we proved that $u(x) \\leq \\frac{C}{|x|^{\\alpha - 2}}$ when $\\alpha > 2$ (and more importantly, independently from $n$), and since we're given that $|x| > 1$, then we know that $u(x) \\leq \\frac{C}{|x|^{n - 2}}$"
   ]
  },
  {
   "cell_type": "markdown",
   "metadata": {},
   "source": [
    "## c.\n",
    "If $f \\in C_c^\\infty (R^n), n \\geq 3$ and $\\nu = \\int_{R^n} \\frac{1}{|x - y|^{n - 2}} f(y) dy$, show that $\\lim_{|x| \\rightarrow +\\infty} |x|^{n - 2} \\nu(x) = C$ for some constant $C$.\n",
    "\n",
    "Hint: For $|x| = R >> 1$, divide the integral into three parts\n",
    "$$\n",
    "\\int_{R^n} (\\ldots) dy = \\int_{|y - x| < \\frac{|x|}{2}} (\\ldots) + \\int_{\\frac{|x|}{2} < |y - x| < 2 |x|} (\\ldots) + \\int_{2 |x| < |y - x|} (\\ldots)\n",
    "$$\n",
    "and estimate each part.\n",
    "For example in the region $|y - x| < \\frac{|x|}{2}$, we have $|y| > |x| - |x - y| > \\frac{|x|}{2}$ and\n",
    "$$\n",
    "\\int_{|y - x| < \\frac{|x|}{2}} \\frac{1}{|x - y|^{n - 2}} |f(y)| dy \\leq \\int_0^{\\frac{|x|}{2}} \\frac{r^{n - 1}}{r^{n - 2}} dr \\frac{C}{|x|^\\alpha} \\leq \\frac{C}{|x|^{\\alpha - 2}}\n",
    "$$"
   ]
  },
  {
   "cell_type": "markdown",
   "metadata": {},
   "source": [
    "### Proof\n",
    "\n",
    "First note that since $f \\in C_c^\\infty(R^n)$, there exists some $r$ s.t. $f(B_r^c) = \\{ 0 \\}$.\n",
    "Given any sequence $\\{ x_m \\} \\subset R^n$ with $x_m \\rightarrow \\infty$, define $g_m(y) = \\frac{|x_m|^{n - 2}}{|x_m - y|^{n - 2}}$. Then note that for any $y$ with $|y| < r$, and $x_m$ with $k r < |x_m|$ for any $k > 2$, we have\n",
    "\n",
    "$$\n",
    "g_m(y) = \\frac{|x_m|^{n - 2}}{|x_m - y|^{n - 2}}\n",
    "       \\leq \\frac{|x_m|^{n - 2}}{||x_m| - |y||^{n - 2}}\\\\\n",
    "       \\leq \\frac{1}{\\left( 1 - \\frac{|y|}{|x_m|} \\right)^{n - 2}}\n",
    "       \\leq \\frac{1}{\\left( 1 - \\frac{r}{k r} \\right)^{n - 2}}\\\\\n",
    "       \\leq \\left( \\frac{k}{k - 1} \\right)^{n - 2}\n",
    "$$\n",
    "\n",
    "Since $|x_m| \\rightarrow \\infty, \\exists M \\in Z$ s.t. $\\forall m \\geq M, |x_m| \\geq k r$. Thus, $\\left( \\frac{k}{k - 1} \\right)^{n - 2}$ provides an upper bound for the limit of the sequence $\\{ g_m(y) \\}$ for any $y \\in B_r$.\n",
    "\n",
    "Additionally, since $f$ is continuous on a compact set and $0$ elsewhere, it must be bounded by some constant $C$. Then the sequence $\\{ f(y) g_m(y) \\}$ also has a constant upper bound, and we can apply the dominated convergence theorem.\n",
    "\n",
    "Thus, $\\lim_{m \\rightarrow \\infty} |x_m|^{n - 2} v(x_m) = \\int_{R^n} \\lim_{m \\rightarrow \\infty} \\frac{|x_m|^{n - 2}}{|x_m - y|^{n - 2}} f(y) dy = \\int_{R^n} f(y) dy = C$"
   ]
  },
  {
   "cell_type": "markdown",
   "metadata": {},
   "source": [
    "# 4. (10 pts)\n",
    "The Kelvin transform is defined by\n",
    "$$\n",
    "\\nu(x) = |x|^{2 - n} u\\left(\\frac{x}{|x|^2}\\right)\n",
    "$$\n",
    "Suppose $u$ satisfies $-\\Delta u(x) = u^3$. Find out the new equation satisfied by $\\nu$."
   ]
  },
  {
   "cell_type": "markdown",
   "metadata": {},
   "source": [
    "### Answer\n",
    "\n",
    "Recall that for multivariable functions $g: R^n \\rightarrow R^m$ and $f: R^m \\rightarrow R$, given an index $i \\in [1, n]$, with the convention $f(y)$ and $g(x)$ for input variables, and $g(x) = [g^{(1)}(x), g^{(2)}(x), \\ldots, g^{(m)}(x)]$ we have\n",
    "\n",
    "$$\n",
    "\\frac{\\partial}{\\partial x_i} \\left[ f(g(x)) \\right] = \\sum_{j = 1}^{m} \\frac{\\partial f}{\\partial y_j}(g(x)) \\frac{\\partial g^{(j)}}{\\partial x_i}(x)\\\\\n",
    "\\frac{\\partial^2}{\\partial x_i^2} \\left[ f(g(x)) \\right] = \\sum_{j = 1}^{m} \\left[ \\sum_{k = 1}^{m} \\frac{\\partial^2 f}{\\partial y_j \\partial y_k}(g(x)) \\frac{\\partial g^{(j)}}{\\partial x_i} \\frac{\\partial g^{(k)}}{\\partial x_i} \\right] + \\frac{\\partial f}{\\partial y_j}(g(x)) \\frac{\\partial^2 g^{(j)}}{\\partial x_i^2}(x)\\\\\n",
    "\\Delta \\left[ f(g(x)) \\right] = \\sum_{i = 1}^{m} \\left[ \\sum_{j = 1}^{m} \\left[ \\sum_{k = 1}^{m} \\frac{\\partial^2 f}{\\partial y_j \\partial y_k}(g(x)) \\frac{\\partial g^{(j)}}{\\partial x_i} \\frac{\\partial g^{(k)}}{\\partial x_i} \\right] + \\frac{\\partial f}{\\partial y_j}(g(x)) \\frac{\\partial^2 g^{(j)}}{\\partial x_i^2}(x) \\right]\\\\\n",
    "$$\n",
    "\n",
    "Then recall that in spherical coordinates, $\\Delta f(x) = r^{1 - n} \\frac{\\partial}{\\partial r} \\left( r^{n - 1} \\frac{\\partial f}{\\partial r} \\right) + r^{-2} \\Delta_{S^{n - 1}} f$, where $\\Delta_{S^{n - 1}}$ is the Laplace-Beltrami operator, with $\\Delta_{S^{n - 1}} f(x) = \\Delta f\\left( \\frac{x}{|x|} \\right)$\n",
    "\n",
    "Our function is $v(x) = |x|^{2 - n} u\\left( \\frac{x}{|x|^2} \\right)$, which in spherical coordinates for $r \\neq 0$ is written as $v(r, \\theta) = r^{2 - n} u\\left( \\frac{1}{r}, \\theta \\right)$.\n",
    "\n",
    "Then\n",
    "\n",
    "$$\n",
    "\\frac{\\partial v}{\\partial r} (r, \\theta) = (2 - n) r^{1 - n} u\\left(\\frac{1}{r}, \\theta \\right) - \\frac{r^{2 - n}}{r^2} \\frac{\\partial u}{\\partial r_u} \\left( \\frac{1}{r}, \\theta \\right)\\\\\n",
    "  = \\frac{(2 - n)}{r} v\\left(r, \\theta \\right) - \\frac{1}{r^n} \\frac{\\partial u}{\\partial r_u} \\left( \\frac{1}{r}, \\theta \\right)\\\\\n",
    "$$\n",
    "\n",
    "where $\\frac{\\partial u}{\\partial r_u}(r, \\theta) = \\frac{\\partial}{\\partial r} u(r, \\theta)$."
   ]
  },
  {
   "cell_type": "markdown",
   "metadata": {},
   "source": [
    "Rewriting to find $\\frac{\\partial u}{\\partial r_u}$ in terms of $v$ gives\n",
    "\n",
    "$$\n",
    "\\frac{\\partial u}{\\partial r_u} \\left( \\frac{1}{r}, \\theta \\right) = (2 - n) r^{n - 1} v\\left(r, \\theta \\right) - r^n \\frac{\\partial v}{\\partial r} (r, \\theta)\n",
    "$$\n"
   ]
  },
  {
   "cell_type": "markdown",
   "metadata": {},
   "source": [
    "Repeating the differentiation once more gives\n",
    "\n",
    "$$\n",
    "\\frac{\\partial^2 v}{\\partial r^2} (r, \\theta) = -\\frac{2 - n}{r^2} v\\left(r, \\theta \\right) + \\frac{2 - n}{r} \\frac{\\partial v}{\\partial r}(r, \\theta) + \\frac{n}{r^{n + 1}} \\frac{\\partial u}{\\partial r_u} \\left( \\frac{1}{r}, \\theta \\right) + \\frac{1}{r^{n + 2}} \\frac{\\partial^2 u}{\\partial r_u^2} \\left( \\frac{1}{r}, \\theta \\right)\\\\\n",
    "$$"
   ]
  },
  {
   "cell_type": "markdown",
   "metadata": {},
   "source": [
    "Rewriting to find $\\frac{\\partial^2 u}{\\partial r_u^2}$ in terms of $v$ gives\n",
    "\n",
    "$$\n",
    "\\frac{\\partial^2 v}{\\partial r^2} (r, \\theta) = -\\frac{2 - n}{r^2} v\\left(r, \\theta \\right) + \\frac{2 - n}{r} \\frac{\\partial v}{\\partial r}(r, \\theta) + \\frac{n}{r^{n + 1}} \\left( (2 - n) r^{n - 1} v\\left(r, \\theta \\right) - r^n \\frac{\\partial v}{\\partial r} (r, \\theta) \\right) + \\frac{1}{r^{n + 2}} \\frac{\\partial^2 u}{\\partial r_u^2} \\left( \\frac{1}{r}, \\theta \\right)\\\\\n",
    "r^{n + 2} \\frac{\\partial^2 v}{\\partial r^2} (r, \\theta) = -(2 - n) r^n v\\left(r, \\theta \\right) + (2 - n) r^{n + 1} \\frac{\\partial v}{\\partial r}(r, \\theta) + n (2 - n) r^{n} v\\left(r, \\theta \\right) - n r^{n + 1} \\frac{\\partial v}{\\partial r} (r, \\theta) + \\frac{\\partial^2 u}{\\partial r_u^2} \\left( \\frac{1}{r}, \\theta \\right)\\\\\n",
    "\\frac{\\partial^2 u}{\\partial r_u^2} \\left( \\frac{1}{r}, \\theta \\right) = r^{n + 2} \\frac{\\partial^2 v}{\\partial r^2} (r, \\theta) + (2 - n) r^n v\\left(r, \\theta \\right) - (2 - n) r^{n + 1} \\frac{\\partial v}{\\partial r}(r, \\theta) - n (2 - n) r^{n} v\\left(r, \\theta \\right) + n r^{n + 1} \\frac{\\partial v}{\\partial r} (r, \\theta)\\\\\n",
    "$$"
   ]
  },
  {
   "cell_type": "markdown",
   "metadata": {},
   "source": [
    "Applying the Laplace operator to $v$ gives us\n",
    "\n",
    "$$\n",
    "\\Delta v(r, \\theta) = \\Delta \\left[ r^{2 - n} u\\left( \\frac{1}{r}, \\theta \\right) \\right] \n",
    "  = r^{1 - n} \\frac{\\partial}{\\partial r} \\left[ r^{n - 1} \\frac{\\partial}{\\partial r} \\left( r^{2 - n} u\\left(\\frac{1}{r}, \\theta \\right) \\right) \\right] + r^{-2} \\Delta u(1, \\theta)\\\\\n",
    "  = r^{1 - n} \\frac{\\partial}{\\partial r} \\left[ r^{n - 1} \\left( (2 - n) r^{1 - n} u\\left(\\frac{1}{r}, \\theta \\right) - \\frac{r^{2 - n}}{r^2} \\frac{\\partial u}{\\partial r_u} \\left( \\frac{1}{r}, \\theta \\right) \\right) \\right] - r^{-2} u^3(1, \\theta)\\\\\n",
    "  = r^{1 - n} \\frac{\\partial}{\\partial r} \\left[ (2 - n) u\\left(\\frac{1}{r}, \\theta \\right) - \\frac{1}{r} \\frac{\\partial u}{\\partial r_u} \\left( \\frac{1}{r}, \\theta \\right) \\right] - r^{-2} v^3(1, \\theta)\\\\\n",
    "  = r^{1 - n} \\frac{1}{r^2} \\left[ (n - 2) \\frac{\\partial u}{\\partial r_u} \\left(\\frac{1}{r}, \\theta \\right) + \\frac{\\partial^2 u}{\\partial r_u^2} \\left( \\frac{1}{r}, \\theta \\right) \\right] - r^{-2} v^3(1, \\theta)\\\\\n",
    "  = \\frac{1}{r^{n + 1}} \\left[ (n - 2) \\frac{\\partial u}{\\partial r_u} \\left(\\frac{1}{r}, \\theta \\right) + \\frac{\\partial^2 u}{\\partial r_u^2} \\left( \\frac{1}{r}, \\theta \\right) \\right] - r^{-2} v^3(1, \\theta)\\\\\n",
    "  = \\frac{1}{r^{n + 1}} \\left[ (n - 2) \\left( (2 - n) r^{n - 1} v\\left(r, \\theta \\right) - r^n \\frac{\\partial v}{\\partial r} (r, \\theta) \\right) + \\frac{\\partial^2 u}{\\partial r_u^2} \\left( \\frac{1}{r}, \\theta \\right) \\right] - r^{-2} v^3(1, \\theta)\\\\\n",
    "  = \\frac{1}{r^{n + 1}} \\left[ (n - 2) \\left( (2 - n) r^{n - 1} v\\left(r, \\theta \\right) - r^n \\frac{\\partial v}{\\partial r} (r, \\theta) \\right) + \\left( r^{n + 2} \\frac{\\partial^2 v}{\\partial r^2} (r, \\theta) + (2 - n) r^n v\\left(r, \\theta \\right) - (2 - n) r^{n + 1} \\frac{\\partial v}{\\partial r}(r, \\theta) - n (2 - n) r^{n} v\\left(r, \\theta \\right) + n r^{n + 1} \\frac{\\partial v}{\\partial r} (r, \\theta) \\right) \\right] - r^{-2} v^3(1, \\theta)\\\\\n",
    "$$"
   ]
  },
  {
   "cell_type": "markdown",
   "metadata": {},
   "source": [
    "# 5. (10 pts)\n",
    "Let $u$ be a harmonic function in $B_1(0) \\setminus \\{0\\} = \\{0 < |x| < 1 \\}$ be such that $\\lim_{x \\rightarrow 0} |x|^{n - 2} u(x) = 0$.\n",
    "Show that $u \\in C^2(B_1(0))$. Here $n \\geq 3$."
   ]
  },
  {
   "cell_type": "markdown",
   "metadata": {},
   "source": [
    "### Proof"
   ]
  },
  {
   "cell_type": "markdown",
   "metadata": {},
   "source": [
    "# 6. (20 pts)\n",
    "Let $\\Omega$ be a bounded and smooth domain in $R^n$, and $G(x, y) = \\Phi(|x - y|) - \\phi^x(y)$ be the Green's function in $\\Omega$. We define:\n",
    "$$\n",
    "\\nu(x) = \\int_\\Omega G(x, y) f(y) dy\n",
    "$$\n",
    "Assume that $f \\in C^1(\\Omega) \\cap C(\\bar{\\Omega})$. Show that $\\nu$ is the solution of the inhomogeneous problem\n",
    "$$\n",
    "-\\Delta \\nu(x) = f(x), x \\in \\Omega\\\\\n",
    "\\nu = 0, x \\in \\partial \\Omega\n",
    "$$\n",
    "Hint: Use the results from Problem 2"
   ]
  },
  {
   "cell_type": "markdown",
   "metadata": {},
   "source": [
    "### Proof"
   ]
  },
  {
   "cell_type": "markdown",
   "metadata": {},
   "source": [
    "# 7. (10 pts)\n",
    "Determine the Green's function for the annulus $\\{1 < |x| < 2 \\}$ in $R^2$."
   ]
  },
  {
   "cell_type": "markdown",
   "metadata": {},
   "source": [
    "### Proof"
   ]
  },
  {
   "cell_type": "markdown",
   "metadata": {},
   "source": []
  }
 ],
 "metadata": {
  "kernelspec": {
   "display_name": "Python 3",
   "language": "python",
   "name": "python3"
  },
  "language_info": {
   "codemirror_mode": {
    "name": "ipython",
    "version": 3
   },
   "file_extension": ".py",
   "mimetype": "text/x-python",
   "name": "python",
   "nbconvert_exporter": "python",
   "pygments_lexer": "ipython3",
   "version": "3.7.4"
  }
 },
 "nbformat": 4,
 "nbformat_minor": 2
}
